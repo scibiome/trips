{
 "cells": [
  {
   "cell_type": "code",
   "execution_count": 2,
   "id": "bebfdc9b-4d69-49ce-b1c5-4585266d00a6",
   "metadata": {},
   "outputs": [],
   "source": [
    "import pandas as pd\n",
    "import numpy as np\n",
    "import pickle\n",
    "import os\n",
    "import collections\n",
    "import networkx as nx\n",
    "import numpy as np\n",
    "from collections import defaultdict\n",
    "import sys\n",
    "sys.path.insert(1, \"/home/giga/trips\")\n",
    "from trips_module.utils import *\n",
    "from analysis.evaluation1 import *\n",
    "import matplotlib as mpl\n",
    "import matplotlib.pyplot as plt\n",
    "import matplotlib.cm as cm\n",
    "\n",
    "from scipy.stats import mannwhitneyu, normaltest\n",
    "\n",
    "import warnings\n",
    "warnings.filterwarnings(\"ignore\")"
   ]
  },
  {
   "cell_type": "markdown",
   "id": "d6608ad2-c3a5-475e-984b-2d56f94457d5",
   "metadata": {},
   "source": [
    "# Load prelims"
   ]
  },
  {
   "cell_type": "code",
   "execution_count": 3,
   "id": "457b13b3-db31-4196-a363-157180cf3aad",
   "metadata": {},
   "outputs": [],
   "source": [
    "# Set colors\n",
    "cmap = mpl.pyplot.get_cmap('YlGn_r', 8)\n",
    "all_colors = []\n",
    "for i in range(cmap.N):\n",
    "    rgba = cmap(i)\n",
    "    all_colors.append(mpl.colors.rgb2hex(rgba)) # rgb2hex accepts rgb or rgba\n",
    "colors_pcsf = all_colors[3:]\n",
    "\n",
    "cmap = cm.get_cmap('OrRd_r', 8)\n",
    "\n",
    "all_colors = []\n",
    "for i in range(cmap.N):\n",
    "    rgba = cmap(i)\n",
    "    all_colors.append(mpl.colors.rgb2hex(rgba))\n",
    "colors_diam = all_colors[3:]\n",
    "\n",
    "cmap = cm.get_cmap('PuBu_r', 8)\n",
    "\n",
    "all_colors = []\n",
    "for i in range(cmap.N):\n",
    "    rgba = cmap(i)\n",
    "    all_colors.append(mpl.colors.rgb2hex(rgba))\n",
    "colors_trips = all_colors[3:]\n",
    "\n",
    "cmap = cm.get_cmap('PiYG', 20)\n",
    "all_colors = []\n",
    "for i in range(cmap.N):\n",
    "    rgba = cmap(i)\n",
    "    all_colors.append(mpl.colors.rgb2hex(rgba))\n",
    "colors_trips_dir = all_colors[3:]\n",
    "\n",
    "cmap = cm.get_cmap('OrRd_r', 8)\n",
    "all_colors = []\n",
    "for i in range(cmap.N):\n",
    "    rgba = cmap(i)\n",
    "    all_colors.append(mpl.colors.rgb2hex(rgba))\n",
    "colors_regenrich = all_colors[3:]\n",
    "\n",
    "cmap = cm.get_cmap('BuPu_r', 8)\n",
    "all_colors = []\n",
    "for i in range(cmap.N):\n",
    "    rgba = cmap(i)\n",
    "    all_colors.append(mpl.colors.rgb2hex(rgba))\n",
    "colors_degs_pcst = all_colors[3:]\n",
    "\n",
    "# Create custom color map for DIAMOnD+PCST workflow\n",
    "cmap = mpl.colors.LinearSegmentedColormap.from_list(\"custom\",\n",
    "        [\"white\",\"salmon\"], N=5)\n",
    "colors_diamond = []\n",
    "for i in range(cmap.N):\n",
    "    rgba = cmap(i)\n",
    "    colors_diamond.append(mpl.colors.rgb2hex(rgba))\n",
    "colors_diamond = colors_diamond[::-1]\n",
    "\n",
    "# Create custom color map for MOGAMUN workflow\n",
    "cmap = mpl.colors.LinearSegmentedColormap.from_list(\"custom\",\n",
    "        [\"white\",\"darkcyan\"], N=5)\n",
    "colors_mogamun = []\n",
    "for i in range(cmap.N):\n",
    "    rgba = cmap(i)\n",
    "    colors_mogamun.append(mpl.colors.rgb2hex(rgba))\n",
    "colors_mogamun = colors_mogamun[::-1]\n",
    "\n",
    "dict_palettes = {\"degs_dorothea\":\"BuPu_r\",\n",
    "                 \"domino_dorothea\":\"PuBu_r\",\n",
    "                 \"regenrich_dorothea\":\"OrRd_r\",\n",
    "                \"pcsf\":\"YlGn_r\",\n",
    "                \"diamond\": \"summer_r\"}\n",
    "\n",
    "dict_colors = {\"degs_dorothea\":colors_degs_pcst[0],\n",
    "              \"domino_dorothea\":colors_trips[0],\n",
    "              \"regenrich_dorothea\":colors_regenrich[0],\n",
    "              \"pcsf\":colors_pcsf[0],\n",
    "              \"domino_dorothea_directed\":colors_trips_dir[0],\n",
    "              \"diamond\":colors_diamond[0],\n",
    "              \"mogamun\":colors_mogamun[0]}\n",
    "\n",
    "dict_colors_int = {\"degs_dorothea\":colors_degs_pcst[1],\n",
    "              \"domino_dorothea\":colors_trips[1],\n",
    "              \"regenrich_dorothea\":colors_regenrich[1],\n",
    "              \"pcsf\":colors_pcsf[1]}\n",
    "\n",
    "my_colors = [ dict_colors[\"domino_dorothea\"], dict_colors_int[\"domino_dorothea\"],\n",
    "             dict_colors[\"regenrich_dorothea\"], dict_colors_int[\"regenrich_dorothea\"],\n",
    "             dict_colors[\"pcsf\"], dict_colors_int[\"pcsf\"],\"red\"]"
   ]
  },
  {
   "cell_type": "code",
   "execution_count": 6,
   "id": "5ec2560e-91b1-4cec-87b2-6ca0de413b6a",
   "metadata": {},
   "outputs": [],
   "source": [
    "def load_combined_solutions_indiv(target_folder, dataset):\n",
    "\n",
    "    \"\"\"\n",
    "    Combines the TRIPS result for a dataset\n",
    "    target_folder:  Should contain the *_pcst.txt files after running TRIPS for the dataset\n",
    "    dataset: keyword or dataset name that should match those in the output folder\n",
    "    \"\"\"\n",
    "\n",
    "    files = glob.glob(os.path.join(target_folder, \"{}_module_[0-9]*_pcst.txt\".format(dataset)))\n",
    "    indices = [int(f.split(\"module_\")[1].split(\"_pcst\")[0]) for f in files]\n",
    "    all_solns = []\n",
    "\n",
    "    G_big = nx.Graph()\n",
    "    if indices:\n",
    "        if len(set(indices)) == 1:\n",
    "            file_undirected = os.path.join(target_folder, \"{}_module_{}_pcst.txt\".format(dataset, indices[0]))\n",
    "            if os.path.exists(file_undirected):\n",
    "                df = pd.read_csv(file_undirected, sep=\"\\t\")\n",
    "                G_undirected = nx.from_pandas_edgelist(df, \"source\", \"target\", create_using=nx.Graph)\n",
    "                all_solns.append(list(G_undirected.nodes()))\n",
    "        else:\n",
    "            max_index = max(indices)\n",
    "            for index in range((max_index+1)):\n",
    "                file_undirected = os.path.join(target_folder, \"{}_module_{}_pcst.txt\".format(dataset, index))\n",
    "                if os.path.exists(file_undirected):\n",
    "                    df = pd.read_csv(file_undirected, sep=\"\\t\")\n",
    "                    G_undirected = nx.from_pandas_edgelist(df, \"source\", \"target\", create_using=nx.Graph)\n",
    "                    all_solns.append(list(G_undirected.nodes()))\n",
    "\n",
    "    return all_solns"
   ]
  },
  {
   "cell_type": "code",
   "execution_count": 56,
   "id": "0eb37221-6114-4782-bdcb-77b350942157",
   "metadata": {},
   "outputs": [],
   "source": [
    "# Load list of TFs\n",
    "file_tfs = r\"/data2/home/giga/TRIPS_results/ZENODO/TF_names_v_1.01.txt\"\n",
    "df_tf = pd.read_csv(file_tfs, sep=\"\\t\", header=None)\n",
    "df_tf.columns = [\"tf\"]\n",
    "all_tfs = list(df_tf[\"tf\"])"
   ]
  },
  {
   "cell_type": "markdown",
   "id": "71c274a7-f56f-4bca-b1ca-19b4d92ba427",
   "metadata": {},
   "source": [
    "# Morabito et al. dataset - microglia"
   ]
  },
  {
   "cell_type": "code",
   "execution_count": 59,
   "id": "57cf5bf2-975e-43ff-a61b-55046bf63a38",
   "metadata": {},
   "outputs": [],
   "source": [
    "# Load gold standard for the Morabito dataset\n",
    "file1 = r\"/data2/home/giga/TRIPS_results/ZENODO/Supp_table_1b.csv\"\n",
    "df = pd.read_csv(file1, sep=\" \", skiprows=2)\n",
    "df = df[df[\"cell_type\"] == \"MG\"]\n",
    "all_tf_targets = list(df[\"motif_name\"])\n",
    "atac_seq_results = (set(all_tf_targets).intersection(set(all_tfs)))"
   ]
  },
  {
   "cell_type": "code",
   "execution_count": 60,
   "id": "6ce7f497-6451-4479-8fa2-bfe531dbefe1",
   "metadata": {},
   "outputs": [],
   "source": [
    "folder_morabito = r\"/data2/home/giga/TRIPS_results/ZENODO/single_cell_datasets/Alzheimers_Morabito_microglia/\""
   ]
  },
  {
   "cell_type": "markdown",
   "id": "fda755dc-27cf-4098-8860-371620e2748a",
   "metadata": {},
   "source": [
    "## DEGs"
   ]
  },
  {
   "cell_type": "code",
   "execution_count": 61,
   "id": "ce9b8fc4-0837-4ebc-b56f-0d260780e762",
   "metadata": {},
   "outputs": [
    {
     "data": {
      "text/plain": [
       "{'FOXP2', 'RORA'}"
      ]
     },
     "execution_count": 61,
     "metadata": {},
     "output_type": "execute_result"
    }
   ],
   "source": [
    "file_degs = os.path.join(folder_morabito, \"degs\", \"degs_GSE174367_microglia.txt\")\n",
    "df = pd.read_csv(file_degs, sep=\"\\t\")\n",
    "df = df[df[\"AdjPValue\"] < 0.05]\n",
    "df = df[abs(df[\"Log_FoldChange\"]) > 0.25]\n",
    "degs = list(df[\"Gene_symbol\"])\n",
    "degs_tfs = list(set(degs).intersection(set(all_tfs)))\n",
    "set(degs_tfs).intersection(set(atac_seq_results))"
   ]
  },
  {
   "cell_type": "markdown",
   "id": "86eda31a-b43d-490b-99db-f8553a84e32d",
   "metadata": {},
   "source": [
    "## TRIPS"
   ]
  },
  {
   "cell_type": "code",
   "execution_count": 62,
   "id": "332a1ddd-39a0-4dde-b144-47535bad318f",
   "metadata": {},
   "outputs": [
    {
     "name": "stdout",
     "output_type": "stream",
     "text": [
      "0.5833333333333334\n",
      "{'FOS', 'GATA3', 'STAT1', 'CEBPA', 'TFAP2C', 'NFKB1', 'GATA2'}\n"
     ]
    }
   ],
   "source": [
    "parent_folder = os.path.join(folder_morabito, \"trips\")\n",
    "dataset = \"GSE174367_microglia\"\n",
    "indiv_solns = load_combined_solutions_indiv(parent_folder, dataset)\n",
    "\n",
    "res_trips = set(flatten(indiv_solns)).intersection(set(all_tfs))\n",
    "common_trips = set(res_trips).intersection(set(atac_seq_results))\n",
    "print(len(common_trips) / len(res_trips))\n",
    "print(common_trips)"
   ]
  },
  {
   "cell_type": "markdown",
   "id": "7e341f9a-66c1-4554-b9d3-7811d5a35b7c",
   "metadata": {},
   "source": [
    "## RegEnrich"
   ]
  },
  {
   "cell_type": "code",
   "execution_count": 63,
   "id": "d01e8e1c-b2bd-48d5-a267-cc755a26cb9a",
   "metadata": {},
   "outputs": [
    {
     "name": "stdout",
     "output_type": "stream",
     "text": [
      "RegEnrich TFs: STAT3 FOS CEBPA STAT1 ETS1 MEF2A FOXP1 CTCF ESR1 FOXA1 GATA3 TFAP2C TP53 GATA2 SPI1\n"
     ]
    }
   ],
   "source": [
    "parent_folder = os.path.join(folder_morabito, \"regenrich\")\n",
    "regenrich_morabito = extract_regenrich_results(parent_folder, \"kidney_yes_MG\", n_top_reg=25)\n",
    "common = list(set(regenrich_morabito).intersection(set(atac_seq_results)))\n",
    "print(\"RegEnrich TFs:\", \" \".join(common))"
   ]
  },
  {
   "cell_type": "markdown",
   "id": "6390b4b0-badb-4734-9b9b-d06e44f44bfe",
   "metadata": {},
   "source": [
    "## MOGAMUN"
   ]
  },
  {
   "cell_type": "code",
   "execution_count": 64,
   "id": "1e3f0aa1-68b3-4582-9a7b-2196f3c20d04",
   "metadata": {},
   "outputs": [
    {
     "name": "stdout",
     "output_type": "stream",
     "text": [
      "MOGAMUN TFs: YY1 ETS1 CTCF ESR1 NFKB1 SPI1 TP53 FOS STAT1 POU2F1 MYC NFATC2 SMAD3 GATA3 GATA2 STAT3 CEBPA FOXP1 VDR FOXA1 JUN TFAP2C RARA\n"
     ]
    }
   ],
   "source": [
    "parent_folder = os.path.join(folder_morabito, \"mogamun\")\n",
    "file = os.path.join(parent_folder, \"A_ALL_FILTERED_INTERACTIONS_CYTOSCAPE.csv\")\n",
    "soln = extract_mogamun_results(file)\n",
    "soln = set(soln).intersection(set(all_tfs))\n",
    "common = list(set(soln).intersection(set(atac_seq_results)))\n",
    "print(\"MOGAMUN TFs:\", \" \".join(common))"
   ]
  },
  {
   "cell_type": "markdown",
   "id": "46943a4a-85a7-4aa8-a3a3-bdc933d22c20",
   "metadata": {},
   "source": [
    "## CaCTS"
   ]
  },
  {
   "cell_type": "code",
   "execution_count": 65,
   "id": "60268f79-0617-4b49-9131-b769ad3eac81",
   "metadata": {},
   "outputs": [
    {
     "name": "stdout",
     "output_type": "stream",
     "text": [
      "True\n",
      "CaCTS TFs: STAT3, CREB1, ETV6, SMAD3, FOXK2, NRF1, ELF1, NFATC2, PBX3, HIF1A, POU2F2, NFKB1, RBPJ, REL, NR3C1\n"
     ]
    }
   ],
   "source": [
    "parent_folder = os.path.join(folder_morabito, \"cacts\")\n",
    "file = os.path.join(parent_folder, \"ad_morabito_MG_filtered_top0.1.txt\")\n",
    "print(os.path.exists(file))\n",
    "res = extract_cacts_results(file)\n",
    "res_cacts = [i for i in res if i in all_tfs]\n",
    "common = list(set(res_cacts).intersection(set(atac_seq_results)))\n",
    "print(\"CaCTS TFs:\", \", \".join(common))"
   ]
  },
  {
   "cell_type": "markdown",
   "id": "98c49e55-56ec-4414-ab75-47709684c871",
   "metadata": {},
   "source": [
    "## PCSF"
   ]
  },
  {
   "cell_type": "code",
   "execution_count": 66,
   "id": "bc2afbed-2202-4f54-ae23-4503d519547c",
   "metadata": {},
   "outputs": [
    {
     "data": {
      "text/plain": [
       "[]"
      ]
     },
     "execution_count": 66,
     "metadata": {},
     "output_type": "execute_result"
    }
   ],
   "source": [
    "parent_folder = os.path.join(folder_morabito, \"pcsf\")\n",
    "n_mech = 6\n",
    "\n",
    "file = os.path.join(parent_folder, \"morabito_ad_{}_edges.txt\".format(n_mech))\n",
    "res_pcsf = extract_pcsf_results(file)\n",
    "res_pcsf"
   ]
  },
  {
   "cell_type": "markdown",
   "id": "330a8353-aeec-47f1-87f2-ce25adf54a02",
   "metadata": {},
   "source": [
    "# Xu et al. - Homeostatic microglia"
   ]
  },
  {
   "cell_type": "code",
   "execution_count": 67,
   "id": "ebea9a93-2ec4-4c92-ac5f-e56903b91f72",
   "metadata": {},
   "outputs": [],
   "source": [
    "folder_micr0 = r\"/data2/home/giga/TRIPS_results/ZENODO/single_cell_datasets/Alzheimers_Xu_micr0/\""
   ]
  },
  {
   "cell_type": "markdown",
   "id": "7178af10-fb7c-40ca-816c-8caecf025ece",
   "metadata": {},
   "source": [
    "## RegEnrich"
   ]
  },
  {
   "cell_type": "code",
   "execution_count": 68,
   "id": "8b2749e0-ac7e-4ea0-b8e3-ca34c01d3150",
   "metadata": {},
   "outputs": [
    {
     "name": "stdout",
     "output_type": "stream",
     "text": [
      "RegEnrich TFs: STAT1, STAT2, STAT3, BACH1, FOXP1, NFKB1, IRF1, ESR1, RUNX1, TAL1, FOS, ETS1, SP1, CEBPA, TP53, EGR1, E2F1, SPI1, CTCF, MITF, HIF1A, GATA2, RELA, FOXA1, GATA3\n"
     ]
    }
   ],
   "source": [
    "file = os.path.join(folder_micr0, \"regenrich\", \"xuetal_micr0_rankscore_GSEA.txt\")\n",
    "df = pd.read_csv(file, sep=\"\\t\").head(25)\n",
    "res_regenrich = list(df.reg)\n",
    "print(\"RegEnrich TFs:\", \", \".join(res_regenrich))"
   ]
  },
  {
   "cell_type": "markdown",
   "id": "7030d6e0-aa5c-4e12-9120-cc932021d6c8",
   "metadata": {},
   "source": [
    "## CaCTS"
   ]
  },
  {
   "cell_type": "code",
   "execution_count": 69,
   "id": "595a402a-51f1-449e-bdf9-2be8c108f97a",
   "metadata": {},
   "outputs": [
    {
     "name": "stdout",
     "output_type": "stream",
     "text": [
      "No. of TFs: 50\n",
      "CaCTS TFs: ZBTB16, ZFHX3, BNC2, FOXO3, MBNL2, FOXP1, ZNF652, BHLHE41, FLI1, ZNF846, NCOA3, MXD4, RFX3, BAZ2B, ZEB1, MEF2C, MAF, BBX, ZBTB1, ZNF207, NCOA2, RUNX2, GATAD2B, FOXN3, ZNF148, ZNF609, SKI, BPTF, ZNF618, NFIA, FOXP2, ZBTB20, TET2, ZNF280D, CREB1, SPEN, ZNF518A, TET3, NRF1, SON, LCORL, ZNF33A, FOXJ3, AEBP2, REL, RFX7, TCF7L2, ARID2, SMYD3, ZZZ3\n"
     ]
    }
   ],
   "source": [
    "file = os.path.join(folder_micr0, \"cacts\", \"xuetal_micr0_filtered_top0.1.txt\")\n",
    "res_cacts = extract_cacts_results(file)\n",
    "print(\"No. of TFs:\", len(res_cacts))\n",
    "print(\"CaCTS TFs:\", \", \".join(res_cacts))"
   ]
  },
  {
   "cell_type": "markdown",
   "id": "9468704a-265c-42c9-a286-a01a034409d2",
   "metadata": {},
   "source": [
    "## PCSF"
   ]
  },
  {
   "cell_type": "code",
   "execution_count": 70,
   "id": "6b2a8dc9-dc50-4030-ae85-4802377b8987",
   "metadata": {},
   "outputs": [
    {
     "name": "stdout",
     "output_type": "stream",
     "text": [
      "PCSF TFs: MAFB, STAT2, BACH1, ETV6, STAT1, PPARA\n"
     ]
    }
   ],
   "source": [
    "file = os.path.join(folder_micr0, \"pcsf\", \"micr0_6_edges.txt\")\n",
    "res_pcsf = extract_pcsf_results(file)\n",
    "res_pcsf = [i for i in res_pcsf if i in all_tfs]\n",
    "print(\"PCSF TFs:\", \", \".join(res_pcsf))"
   ]
  },
  {
   "cell_type": "markdown",
   "id": "7e1d5e1c-7ae7-4fa8-939e-5f92f04d2bed",
   "metadata": {},
   "source": [
    "## MOGAMUN"
   ]
  },
  {
   "cell_type": "code",
   "execution_count": 71,
   "id": "926cc8bd-22fc-49a2-bb78-0f954cab112f",
   "metadata": {},
   "outputs": [
    {
     "name": "stdout",
     "output_type": "stream",
     "text": [
      "MOGAMUN TFs: FOS, ETS1, CUX1, FOXA1, FOXO3, FOXP1, GATA3, MYC, NFKB1, RUNX1, SMAD3, STAT3, TP53, CEBPA, E2F1, JUN, AR, ESR1, ETV6, SP1, MITF, BCL6, SPI1, IRF1, STAT1, HNF4A, TAL1, IRF9, STAT2, GATA2\n"
     ]
    }
   ],
   "source": [
    "file = os.path.join(folder_micr0, \"mogamun\", \"A_ALL_FILTERED_INTERACTIONS_CYTOSCAPE.csv\")\n",
    "res_mogamun = extract_mogamun_results(file)\n",
    "res_mogamun = [tf for tf in res_mogamun if tf in all_tfs]\n",
    "print(\"MOGAMUN TFs:\", \", \".join(res_mogamun))"
   ]
  },
  {
   "cell_type": "markdown",
   "id": "f5c7623c-c712-4a2e-b23e-a6a0b799e081",
   "metadata": {},
   "source": [
    "## TRIPS"
   ]
  },
  {
   "cell_type": "code",
   "execution_count": 72,
   "id": "d578d1a4-d6ab-48c4-ba3d-f44a8ff481dc",
   "metadata": {},
   "outputs": [
    {
     "name": "stdout",
     "output_type": "stream",
     "text": [
      "TRIPS TFs: IRF1, ESR1, NFKB1, SPI1, HNF4A, FOS, STAT1, MYC, GATA3, STAT3, RUNX1, FOXP1, HIF1A, CEBPA, PPARG\n"
     ]
    }
   ],
   "source": [
    "parent_folder = os.path.join(folder_micr0, \"trips\")\n",
    "dataset = \"Micr0_ADvsCtrl\"\n",
    "indiv_solns = load_combined_solutions_indiv(parent_folder, dataset)\n",
    "res_trips = list(set(flatten(indiv_solns)))\n",
    "res_trips = [tf for tf in res_trips if tf in all_tfs]\n",
    "print(\"TRIPS TFs:\", \", \".join(res_trips))"
   ]
  },
  {
   "cell_type": "markdown",
   "id": "bf08b19f-d7e2-456a-92db-61e22b33d346",
   "metadata": {},
   "source": [
    "## Plot"
   ]
  },
  {
   "cell_type": "code",
   "execution_count": 73,
   "id": "475b495d-94e9-4f74-b3b2-e5a8b7ce695d",
   "metadata": {
    "scrolled": true
   },
   "outputs": [],
   "source": [
    "data = {\"trips\": res_trips, \"regenrich\": res_regenrich, \n",
    "        \"pcsf\":res_pcsf, \"cacts\": res_cacts, \"mogamun\": res_mogamun}\n",
    "\n",
    "labels = list(data.keys())\n",
    "result = [[jaccard_similarity(data[row], data[col]) for col in labels]\n",
    "          for row in labels]\n",
    "\n",
    "df = pd.DataFrame(result, columns = labels)"
   ]
  },
  {
   "cell_type": "code",
   "execution_count": 74,
   "id": "6e1e351b-d92e-49d8-b27b-d8fea68803fc",
   "metadata": {},
   "outputs": [
    {
     "data": {
      "image/png": "[encoded data removed]",
      "text/plain": [
       "<Figure size 640x480 with 2 Axes>"
      ]
     },
     "metadata": {},
     "output_type": "display_data"
    }
   ],
   "source": [
    "g = sns.heatmap(df)\n",
    "labels = [\"TRIPS\",\"RegEnrich\",\"PCSF\",\"CaCTS\",\"MOGAMUN\"]\n",
    "g.set_yticklabels(labels, rotation=0)\n",
    "g.set_xticklabels(labels, rotation=0)\n",
    "plt.title(\"Micr-0\", fontsize=20)\n",
    "# g.yticks(rotation=0)\n",
    "\n",
    "file = r\"/data2/home/giga/TRIPS_results/ZENODO/single_cell_datasets/xu_jaccard_micr0.svg\"\n",
    "plt.savefig(file, format=\"svg\", bbox_inches=\"tight\")"
   ]
  },
  {
   "cell_type": "markdown",
   "id": "5d942b1f-150e-4bf4-a077-31b1d1da22a0",
   "metadata": {},
   "source": [
    "# Xu et al. - Activated microglia"
   ]
  },
  {
   "cell_type": "code",
   "execution_count": 75,
   "id": "162f19cd-3fa2-449e-ad56-09598533e47e",
   "metadata": {},
   "outputs": [],
   "source": [
    "folder_micr1 = r\"/data2/home/giga/TRIPS_results/ZENODO/single_cell_datasets/Alzheimers_Xu_micr1/\""
   ]
  },
  {
   "cell_type": "markdown",
   "id": "cda4ab8f-c97f-4f68-8794-a5b60919ccf3",
   "metadata": {},
   "source": [
    "## RegEnrich"
   ]
  },
  {
   "cell_type": "code",
   "execution_count": 76,
   "id": "6a474e74-1f23-4af0-bd8f-76e7f3318c69",
   "metadata": {},
   "outputs": [
    {
     "name": "stdout",
     "output_type": "stream",
     "text": [
      "RegEnrich TFs: STAT1, FOXP1, TAL1, GATA2, CEBPA, FOS, RUNX1, GATA3, CTCF, SPI1, FOXO3, MEF2C, ERG, STAT2, FOXA1, HNF4A, E2F4, FLI1, E2F1, NFYB, AR, BCL6, PPARG, TFAP2C, BACH1\n"
     ]
    }
   ],
   "source": [
    "file = os.path.join(folder_micr1, \"regenrich\", \"xuetal_micr1_rankscore_GSEA.txt\")\n",
    "df = pd.read_csv(file, sep=\"\\t\")\n",
    "df = df.head(25)\n",
    "res_regenrich = list(df.reg)\n",
    "print(\"RegEnrich TFs:\", \", \".join(res_regenrich))"
   ]
  },
  {
   "cell_type": "markdown",
   "id": "e748c809-731e-477d-8de2-61e88aea7f43",
   "metadata": {},
   "source": [
    "## CaCTS"
   ]
  },
  {
   "cell_type": "code",
   "execution_count": 77,
   "id": "6d7349c3-e255-44b8-89bb-5a23d6dc670c",
   "metadata": {},
   "outputs": [
    {
     "name": "stdout",
     "output_type": "stream",
     "text": [
      "No. of TFs: 25\n",
      "CaCTS TFs: ZBTB16, BNC2, MAF, FOXP1, FOXO3, ZNF846, ZFHX3, PPARG, FLI1, RUNX2, MBNL2, RFX3, MXD4, ZNF652, NFIA, JDP2, NCOA3, ADNP, ZNF710, MEF2C, SKIL, BBX, ATF6, BHLHE41, TET2\n"
     ]
    }
   ],
   "source": [
    "file = os.path.join(folder_micr1, \"cacts\", \"xuetal_micr1_filtered_top0.1.txt\")\n",
    "res_cacts = extract_cacts_results(file, n_top_reg=25)\n",
    "print(\"No. of TFs:\", len(res_cacts))\n",
    "print(\"CaCTS TFs:\", \", \".join(res_cacts))"
   ]
  },
  {
   "cell_type": "markdown",
   "id": "019756f7-f929-4569-9215-aa52f9f33d96",
   "metadata": {},
   "source": [
    "## PCSF"
   ]
  },
  {
   "cell_type": "code",
   "execution_count": 78,
   "id": "cf970c63-c9b1-4663-a8c2-dbf243975d4d",
   "metadata": {},
   "outputs": [
    {
     "name": "stdout",
     "output_type": "stream",
     "text": [
      "No. of TFs: 6\n"
     ]
    },
    {
     "data": {
      "text/plain": [
       "'JUNB, MAFB, STAT2, FOXO4, ETV6, STAT1'"
      ]
     },
     "execution_count": 78,
     "metadata": {},
     "output_type": "execute_result"
    }
   ],
   "source": [
    "n_mech = 6\n",
    "file_pcsf = os.path.join(folder_micr1, \"pcsf\", \"micr1_{}_edges.txt\".format(n_mech))\n",
    "res_pcsf = extract_pcsf_results(file_pcsf)\n",
    "res_pcsf = [i for i in res_pcsf if i in all_tfs]\n",
    "print(\"No. of TFs:\", len(res_pcsf))\n",
    "\", \".join(res_pcsf)"
   ]
  },
  {
   "cell_type": "markdown",
   "id": "07120144-8eff-40f2-8814-e097ec65fcce",
   "metadata": {},
   "source": [
    "## MOGAMUN"
   ]
  },
  {
   "cell_type": "code",
   "execution_count": 79,
   "id": "d5bcf164-1121-4b53-a22b-9d612749958f",
   "metadata": {},
   "outputs": [
    {
     "name": "stdout",
     "output_type": "stream",
     "text": [
      "No. of TFs: 36\n"
     ]
    },
    {
     "data": {
      "text/plain": [
       "'FOS, EPAS1, ETS1, CUX1, FOXP1, GATA3, MYC, NFKB1, RUNX1, SMAD3, STAT3, TP53, CEBPA, E2F1, JUN, HIF1A, RARA, AR, RELA, ESR1, ETV6, SP1, TFAP2C, SPI1, CTCF, IRF1, EGR1, STAT1, HNF4A, CREB1, MITF, TAL1, IRF9, STAT2, ZNF398, E2F4'"
      ]
     },
     "execution_count": 79,
     "metadata": {},
     "output_type": "execute_result"
    }
   ],
   "source": [
    "parent_folder = os.path.join(folder_micr1, \"mogamun\", \"A_ALL_FILTERED_INTERACTIONS_CYTOSCAPE.csv\")\n",
    "res_mogamun = extract_mogamun_results(parent_folder)\n",
    "len(res_mogamun)\n",
    "\n",
    "res_mogamun = [tf for tf in res_mogamun if tf in all_tfs]\n",
    "print(\"No. of TFs:\", len(res_mogamun))\n",
    "\", \".join(res_mogamun)"
   ]
  },
  {
   "cell_type": "markdown",
   "id": "2b8ba67a-04ca-4947-bb08-332004719fec",
   "metadata": {},
   "source": [
    "## TRIPS"
   ]
  },
  {
   "cell_type": "code",
   "execution_count": 80,
   "id": "e64184f4-4410-44a9-b36c-37e171c84d69",
   "metadata": {},
   "outputs": [
    {
     "name": "stdout",
     "output_type": "stream",
     "text": [
      "No. of TFs:  18\n"
     ]
    },
    {
     "data": {
      "text/plain": [
       "'IRF1, STAT2, FOS, CEBPA, HNF4A, FOXO3, STAT1, TP53, ERG, FOXP1, MYC, HIF1A, FOXA1, TAL1, TFAP2C, NFKB1, ZNF550, SPI1'"
      ]
     },
     "execution_count": 80,
     "metadata": {},
     "output_type": "execute_result"
    }
   ],
   "source": [
    "parent_folder = os.path.join(folder_micr1, \"trips\")\n",
    "dataset = \"Micr1_ADvsCtrl\"\n",
    "indiv_solns = load_combined_solutions_indiv(parent_folder, dataset)\n",
    "res_trips = set(flatten(indiv_solns)).intersection(set(all_tfs))\n",
    "print(\"No. of TFs: \", len(res_trips))\n",
    "\", \".join(res_trips)"
   ]
  },
  {
   "cell_type": "markdown",
   "id": "ff2ef1d7-ea41-4d45-802c-930e24c46f54",
   "metadata": {},
   "source": [
    "## Plot"
   ]
  },
  {
   "cell_type": "code",
   "execution_count": 81,
   "id": "687de3bf-4475-4222-a01c-5b665fe15287",
   "metadata": {
    "scrolled": true
   },
   "outputs": [],
   "source": [
    "data = {\"trips\": res_trips, \"regenrich\": res_regenrich, \n",
    "        \"pcsf\":res_pcsf, \"cacts\": res_cacts, \"mogamun\": res_mogamun}\n",
    "\n",
    "labels = list(data.keys())\n",
    "result = [[jaccard_similarity(data[row], data[col]) for col in labels]\n",
    "          for row in labels]\n",
    "\n",
    "df = pd.DataFrame(result, columns = labels)"
   ]
  },
  {
   "cell_type": "code",
   "execution_count": 82,
   "id": "f071ba8b-68ab-4540-aecb-09467c207f21",
   "metadata": {},
   "outputs": [
    {
     "data": {
      "image/png": "[encoded data removed]",
      "text/plain": [
       "<Figure size 640x480 with 2 Axes>"
      ]
     },
     "metadata": {},
     "output_type": "display_data"
    }
   ],
   "source": [
    "g = sns.heatmap(df)\n",
    "labels = [\"TRIPS\",\"RegEnrich\",\"PCSF\",\"CaCTS\",\"MOGAMUN\"]\n",
    "g.set_yticklabels(labels, rotation=0)\n",
    "g.set_xticklabels(labels, rotation=0)\n",
    "plt.title(\"Micr-1\", fontsize=20)\n",
    "# g.yticks(rotation=0)\n",
    "\n",
    "file = r\"/data2/home/giga/TRIPS_results/ZENODO/single_cell_datasets/xu_jaccard_micr1.svg\"\n",
    "plt.savefig(file, format=\"svg\", bbox_inches=\"tight\")"
   ]
  },
  {
   "cell_type": "markdown",
   "id": "9b7c1bf3-89a4-4e3a-b3b2-59174554b3e3",
   "metadata": {},
   "source": [
    "# Diabetic kidney disease"
   ]
  },
  {
   "cell_type": "code",
   "execution_count": 85,
   "id": "fb4495e6-dc24-4831-b6c3-435ed4376023",
   "metadata": {},
   "outputs": [
    {
     "name": "stdout",
     "output_type": "stream",
     "text": [
      "12\n"
     ]
    }
   ],
   "source": [
    "file_cell_types = r\"/data2/home/giga/TRIPS_results/ZENODO/dkd_cell_types.txt\"\n",
    "df_cells = pd.read_csv(file_cell_types, sep=\"\\t\")\n",
    "all_cell_types = list(set(df_cells[\"author_cell_type\"]))\n",
    "cell_types_remove = [\"MES\",\"PT\",\"LEUK\",\"FIB\"]\n",
    "all_cell_types = [x for x in all_cell_types if x not in cell_types_remove]\n",
    "print(len(all_cell_types))"
   ]
  },
  {
   "cell_type": "code",
   "execution_count": 84,
   "id": "bc99bc9a-381c-490b-b7dd-ba2608d99c25",
   "metadata": {},
   "outputs": [],
   "source": [
    "# Extract gold standard\n",
    "folder_atac_seq = r\"/data2/home/giga/TRIPS_results/ZENODO/atac_seq_tf_enrichment/\"\n",
    "\n",
    "folder_dkd = r\"/data2/home/giga/TRIPS_results/ZENODO/single_cell_datasets/Diabetic_kidney_disease/\""
   ]
  },
  {
   "cell_type": "markdown",
   "id": "026c6e8a-f42d-4d31-bd86-38bbdd8f2845",
   "metadata": {},
   "source": [
    "## DEGs"
   ]
  },
  {
   "cell_type": "code",
   "execution_count": 34,
   "id": "29e0ec92-01d5-494e-8d55-4c1b65bd02f0",
   "metadata": {},
   "outputs": [
    {
     "data": {
      "text/plain": [
       "[0.39759036144578314,\n",
       " 0.4782608695652174,\n",
       " 0.47191011235955055,\n",
       " 0.475,\n",
       " 0.42105263157894735,\n",
       " 0.4307692307692308,\n",
       " 0.575,\n",
       " 0.3333333333333333,\n",
       " 0.5227272727272727,\n",
       " 0.3695652173913043,\n",
       " 0.532258064516129,\n",
       " 0.3424657534246575]"
      ]
     },
     "execution_count": 34,
     "metadata": {},
     "output_type": "execute_result"
    }
   ],
   "source": [
    "parent_folder = os.path.join(folder_dkd, \"degs\")\n",
    "\n",
    "precs_degs = []\n",
    "for cell_type in all_cell_types:\n",
    "\n",
    "    file_degs = os.path.join(parent_folder, \"kidney_yes_{}.csv\".format(cell_type))\n",
    "    df = pd.read_csv(file_degs, sep=\"\\t\")\n",
    "    df = df[df[\"p_val\"] < 0.05]\n",
    "    df = df[abs(df[\"Log_FoldChange\"]) > 0.25]\n",
    "    degs = list(df[\"Gene_symbol\"])\n",
    "    degs_tfs = set(degs).intersection(set(all_tfs))\n",
    "\n",
    "    if cell_type == \"PTVCAM1\":\n",
    "        atac_cell_type = \"pt_vcam1\"\n",
    "    else:\n",
    "        atac_cell_type = cell_type\n",
    "            \n",
    "    gold_standard_tfs = []\n",
    "    file_atac = os.path.join(folder_atac_seq, \"kidney_yes_supp_dataset_13_{}.csv\".format(atac_cell_type.lower()))\n",
    "    df_atac = pd.read_csv(file_atac, sep=\"\\t\")\n",
    "    gold_standard_tfs = df_atac[\"motif.name\"]\n",
    "\n",
    "    if degs_tfs:\n",
    "        common = set(degs_tfs).intersection(set(gold_standard_tfs))\n",
    "        prec = len(common) / len(degs_tfs)\n",
    "    else:\n",
    "        prec = 0\n",
    "    precs_degs.append(prec)\n",
    "\n",
    "precs_degs"
   ]
  },
  {
   "cell_type": "markdown",
   "id": "1f3b4bfd-3d2a-4d2d-8a58-23163e87e720",
   "metadata": {},
   "source": [
    "## CaCTS"
   ]
  },
  {
   "cell_type": "code",
   "execution_count": 35,
   "id": "38c9ebfe-f304-4794-aaa6-e115c3aae475",
   "metadata": {},
   "outputs": [],
   "source": [
    "parent_folder = os.path.join(folder_dkd, \"cacts\")\n",
    "percent = 0.1\n",
    "\n",
    "precs_cacts = []\n",
    "for cell_type in all_cell_types:\n",
    "    \n",
    "        file = os.path.join(parent_folder, \"kidney_yes_{}_filtered_top{}.txt\".format(cell_type, percent))\n",
    "        res = extract_cacts_results(file)\n",
    "        res_cacts = [i for i in res if i in all_tfs]\n",
    "        if cell_type == \"PTVCAM1\":\n",
    "            atac_cell_type = \"pt_vcam1\"\n",
    "        else:\n",
    "            atac_cell_type = cell_type\n",
    "        gold_standard_tfs = []\n",
    "        file_atac = os.path.join(folder_atac_seq, \"kidney_yes_supp_dataset_13_{}.csv\".format(atac_cell_type.lower()))\n",
    "        df_atac = pd.read_csv(file_atac, sep=\"\\t\")\n",
    "        gold_standard_tfs = df_atac[\"motif.name\"]\n",
    "        if res_cacts:\n",
    "            common = set(res_cacts).intersection(set(gold_standard_tfs))\n",
    "            prec = len(common) / len(res_cacts)\n",
    "        else:\n",
    "            prec = 0\n",
    "        precs_cacts.append(prec)"
   ]
  },
  {
   "cell_type": "markdown",
   "id": "a4b87d5b-9d4f-4d1b-88ac-998dce07de7b",
   "metadata": {},
   "source": [
    "## RegEnrich"
   ]
  },
  {
   "cell_type": "code",
   "execution_count": 36,
   "id": "9e8a42d6-1818-438e-a834-4228921e3d80",
   "metadata": {},
   "outputs": [],
   "source": [
    "parent_folder = os.path.join(folder_dkd, \"regenrich\")\n",
    "\n",
    "precs_regenrich = []\n",
    "for cell_type in all_cell_types:\n",
    "\n",
    "    keyword = \"kidney_yes_{}\".format(cell_type)\n",
    "    res = extract_regenrich_results(parent_folder, keyword, n_top_reg=25)\n",
    "    if cell_type == \"PTVCAM1\":\n",
    "        atac_cell_type = \"pt_vcam1\"\n",
    "    else:\n",
    "        atac_cell_type = cell_type\n",
    "        \n",
    "    gold_standard_tfs = []\n",
    "    file_atac = os.path.join(folder_atac_seq, \"kidney_yes_supp_dataset_13_{}.csv\".format(atac_cell_type.lower()))\n",
    "    df_atac = pd.read_csv(file_atac, sep=\"\\t\")\n",
    "    gold_standard_tfs = df_atac[\"motif.name\"]\n",
    "\n",
    "    common = (set(res).intersection(set(gold_standard_tfs)))\n",
    "    precs_regenrich.append(len(common) / len(res))"
   ]
  },
  {
   "cell_type": "markdown",
   "id": "dc0787f2-3241-4240-b0a7-ad0e5d3074e9",
   "metadata": {},
   "source": [
    "## TRIPS"
   ]
  },
  {
   "cell_type": "code",
   "execution_count": 37,
   "id": "b6b61cae-303b-4d43-8f03-7c926383854d",
   "metadata": {},
   "outputs": [],
   "source": [
    "parent_folder = os.path.join(folder_dkd, \"trips\")\n",
    "\n",
    "precs_trips = []\n",
    "trips_solutions = []\n",
    "for cell_type in all_cell_types:\n",
    "\n",
    "    dataset = \"kidney_yes_{}\".format(cell_type)    \n",
    "    results_folder = os.path.join(parent_folder, dataset, \"final_solutions_{}\".format(dataset))\n",
    "    indiv_solns = load_combined_solutions_indiv(results_folder, dataset)\n",
    "\n",
    "    res_trips = flatten(indiv_solns)\n",
    "    trips_solutions.append(res_trips)\n",
    "    trips_tfs = set(res_trips).intersection(set(all_tfs))\n",
    "\n",
    "    if cell_type == \"PTVCAM1\":\n",
    "        atac_cell_type = \"pt_vcam1\"\n",
    "    else:\n",
    "        atac_cell_type = cell_type\n",
    "    gold_standard_tfs = []\n",
    "    file_atac = os.path.join(folder_atac_seq, \"kidney_yes_supp_dataset_13_{}.csv\".format(atac_cell_type.lower()))\n",
    "    df_atac = pd.read_csv(file_atac, sep=\"\\t\")\n",
    "    gold_standard_tfs = df_atac[\"motif.name\"]\n",
    "    common = set(trips_tfs).intersection(set(gold_standard_tfs))\n",
    "    if len(trips_tfs) == 0:\n",
    "        precs_trips.append(0)\n",
    "    else:\n",
    "        precs_trips.append(len(common) / len(trips_tfs))"
   ]
  },
  {
   "cell_type": "markdown",
   "id": "6591f7bd-3e0b-4f97-a3ca-77e976fd77da",
   "metadata": {},
   "source": [
    "## PCSF"
   ]
  },
  {
   "cell_type": "code",
   "execution_count": 38,
   "id": "6d1d28f6-f809-457d-af40-42c93b0b9925",
   "metadata": {},
   "outputs": [
    {
     "data": {
      "text/plain": [
       "[0.32558139534883723,\n",
       " 0.2,\n",
       " 0.2727272727272727,\n",
       " 0.3548387096774194,\n",
       " 0,\n",
       " 0.20454545454545456,\n",
       " 0.3333333333333333,\n",
       " 0.25,\n",
       " 0.4,\n",
       " 0.2857142857142857,\n",
       " 0.4117647058823529,\n",
       " 0.3333333333333333]"
      ]
     },
     "execution_count": 38,
     "metadata": {},
     "output_type": "execute_result"
    }
   ],
   "source": [
    "parent_folder = os.path.join(folder_dkd, \"pcsf\")\n",
    "keyword = \"test\"\n",
    "n_mech = 6\n",
    "\n",
    "precs_pcsf = []\n",
    "for cell_type in all_cell_types:\n",
    "\n",
    "    file = os.path.join(parent_folder, \"kidney_yes_{}\".format(cell_type), \"{}_{}_edges.txt\".format(keyword, n_mech))\n",
    "    # print(\"file\", file)\n",
    "    if not os.path.exists(file):\n",
    "        print(\"File does not exist for\", cell_type)\n",
    "    else:   \n",
    "        res_pcsf = extract_pcsf_results(file)\n",
    "        if cell_type == \"PTVCAM1\":\n",
    "            atac_cell_type = \"pt_vcam1\"\n",
    "        else:\n",
    "            atac_cell_type = cell_type\n",
    "        gold_standard_tfs = []\n",
    "        file_atac = os.path.join(folder_atac_seq, \"kidney_yes_supp_dataset_13_{}.csv\".format(atac_cell_type.lower()))\n",
    "        df_atac = pd.read_csv(file_atac, sep=\"\\t\")\n",
    "        gold_standard_tfs = df_atac[\"motif.name\"]\n",
    "        \n",
    "        res_tfs = set(res_pcsf).intersection(set(all_tfs))\n",
    "        common = set(res_tfs).intersection(set(gold_standard_tfs))\n",
    "        if res_pcsf:\n",
    "            prec = len(common) / len(res_pcsf)\n",
    "        else:\n",
    "            prec = 0\n",
    "        precs_pcsf.append(prec)\n",
    "\n",
    "precs_pcsf"
   ]
  },
  {
   "cell_type": "markdown",
   "id": "c55361e8-1b4a-4a90-838d-557596ef1138",
   "metadata": {},
   "source": [
    "## MOGAMUN"
   ]
  },
  {
   "cell_type": "code",
   "execution_count": 39,
   "id": "037e01b5-e49d-42da-a62b-4612b2a2184d",
   "metadata": {},
   "outputs": [
    {
     "data": {
      "text/plain": [
       "[0.7837837837837838,\n",
       " 0.8235294117647058,\n",
       " 0.8484848484848485,\n",
       " 0.8,\n",
       " 0.78125,\n",
       " 0.8235294117647058,\n",
       " 0.8292682926829268,\n",
       " 0.8,\n",
       " 0.8695652173913043,\n",
       " 0.8823529411764706,\n",
       " 0.9259259259259259,\n",
       " 0.8333333333333334]"
      ]
     },
     "execution_count": 39,
     "metadata": {},
     "output_type": "execute_result"
    }
   ],
   "source": [
    "parent_folder = os.path.join(folder_dkd, \"mogamun\")\n",
    "\n",
    "precs_mogamun = []\n",
    "for cell_type in all_cell_types:\n",
    "\n",
    "    dataset = \"kidney_yes_\" + cell_type\n",
    "    folder_sub = glob.glob(os.path.join(parent_folder, dataset, \"Experiment_*\".format(dataset)))\n",
    "    if len(folder_sub) == 1:\n",
    "        file = os.path.join(folder_sub[0], \"A_ALL_FILTERED_INTERACTIONS_CYTOSCAPE.csv\")\n",
    "        if os.path.exists(file):\n",
    "            soln = extract_mogamun_results(file)\n",
    "        if cell_type == \"PTVCAM1\":\n",
    "            atac_cell_type = \"pt_vcam1\"\n",
    "        else:\n",
    "            atac_cell_type = cell_type\n",
    "        gold_standard_tfs = []\n",
    "        file_atac = os.path.join(folder_atac_seq, \"kidney_yes_supp_dataset_13_{}.csv\".format(atac_cell_type.lower()))\n",
    "        df_atac = pd.read_csv(file_atac, sep=\"\\t\")\n",
    "        gold_standard_tfs = df_atac[\"motif.name\"]\n",
    "        \n",
    "        res_mogamun = set(soln).intersection(set(all_tfs))\n",
    "        common = set(res_mogamun).intersection(set(gold_standard_tfs))\n",
    "        if res_mogamun:\n",
    "            prec = len(common) / len(res_mogamun)\n",
    "        else:\n",
    "            prec = 0\n",
    "        precs_mogamun.append(prec)\n",
    "\n",
    "precs_mogamun"
   ]
  },
  {
   "cell_type": "markdown",
   "id": "823597a0-7332-4b46-8b99-2b7cd87e0a46",
   "metadata": {},
   "source": [
    "## Plot"
   ]
  },
  {
   "cell_type": "code",
   "execution_count": 40,
   "id": "080ecffc-1cdd-4462-bebe-2285b9e7efea",
   "metadata": {},
   "outputs": [
    {
     "data": {
      "text/html": [
       "<div>\n",
       "<style scoped>\n",
       "    .dataframe tbody tr th:only-of-type {\n",
       "        vertical-align: middle;\n",
       "    }\n",
       "\n",
       "    .dataframe tbody tr th {\n",
       "        vertical-align: top;\n",
       "    }\n",
       "\n",
       "    .dataframe thead th {\n",
       "        text-align: right;\n",
       "    }\n",
       "</style>\n",
       "<table border=\"1\" class=\"dataframe\">\n",
       "  <thead>\n",
       "    <tr style=\"text-align: right;\">\n",
       "      <th></th>\n",
       "      <th>precision</th>\n",
       "      <th>method</th>\n",
       "    </tr>\n",
       "  </thead>\n",
       "  <tbody>\n",
       "    <tr>\n",
       "      <th>0</th>\n",
       "      <td>0.397590</td>\n",
       "      <td>degs</td>\n",
       "    </tr>\n",
       "    <tr>\n",
       "      <th>1</th>\n",
       "      <td>0.478261</td>\n",
       "      <td>degs</td>\n",
       "    </tr>\n",
       "    <tr>\n",
       "      <th>2</th>\n",
       "      <td>0.471910</td>\n",
       "      <td>degs</td>\n",
       "    </tr>\n",
       "    <tr>\n",
       "      <th>3</th>\n",
       "      <td>0.475000</td>\n",
       "      <td>degs</td>\n",
       "    </tr>\n",
       "    <tr>\n",
       "      <th>4</th>\n",
       "      <td>0.421053</td>\n",
       "      <td>degs</td>\n",
       "    </tr>\n",
       "  </tbody>\n",
       "</table>\n",
       "</div>"
      ],
      "text/plain": [
       "   precision method\n",
       "0   0.397590   degs\n",
       "1   0.478261   degs\n",
       "2   0.471910   degs\n",
       "3   0.475000   degs\n",
       "4   0.421053   degs"
      ]
     },
     "execution_count": 40,
     "metadata": {},
     "output_type": "execute_result"
    }
   ],
   "source": [
    "dict_map = {\"degs\": precs_degs,\n",
    "            \"trips\": precs_trips,\n",
    "            \"regenrich\": precs_regenrich,\n",
    "            \"cacts\": precs_cacts,\n",
    "            \"pcsf\": precs_pcsf,\n",
    "            \"mogamun\": precs_mogamun}\n",
    "\n",
    "all_dfs = []\n",
    "for method, precs in dict_map.items():\n",
    "    df = pd.DataFrame({\"precision\":precs})\n",
    "    df[\"method\"] = method\n",
    "    all_dfs.append(df)\n",
    "\n",
    "df_all = pd.concat(all_dfs)\n",
    "df_all.head()"
   ]
  },
  {
   "cell_type": "code",
   "execution_count": 41,
   "id": "6209150e-a3a5-4204-94cf-45bcf5f1d279",
   "metadata": {},
   "outputs": [],
   "source": [
    "my_colors = [\"palevioletred\",\n",
    "             dict_colors[\"domino_dorothea\"],\n",
    "             dict_colors[\"regenrich_dorothea\"],\n",
    "             \"tan\",\n",
    "             dict_colors[\"pcsf\"],\n",
    "            \"orchid\"]"
   ]
  },
  {
   "cell_type": "code",
   "execution_count": 42,
   "id": "88f503ba-d206-4d05-9c04-81e378c96723",
   "metadata": {},
   "outputs": [
    {
     "data": {
      "image/png": "[encoded data removed]",
      "text/plain": [
       "<Figure size 800x500 with 1 Axes>"
      ]
     },
     "metadata": {},
     "output_type": "display_data"
    }
   ],
   "source": [
    "sns.set()\n",
    "plt.figure(figsize=(8,5))\n",
    "b = sns.boxplot( data=df_all, x=\"method\", y=\"precision\",  palette=my_colors)  # RUN PLOT  \n",
    "b.axes.set_title(\"Comparison of TF prioritization methods\\nDiabetic kidney disease\",\n",
    "                 fontsize=20)\n",
    "b.set_xlabel(\"\",fontsize=18)\n",
    "b.set_ylabel(\"Precision\",fontsize=18)\n",
    "b.tick_params(labelsize=10)\n",
    "\n",
    "new_labels = [\"DEGs\",\"TRIPS\",\"RegEnrich\",\"CaCTS\",\"PCSF\",\"MOGAMUN\"]\n",
    "b.set_xticklabels(new_labels, rotation=30, fontsize=14)\n",
    "\n",
    "file = os.path.join(r\"/data2/home/giga/TRIPS_results/ZENODO/single_cell_datasets\", \"evaluation_dkd_REDUCED.png\")\n",
    "plt.savefig(file, format=\"png\", bbox_inches=\"tight\")"
   ]
  },
  {
   "cell_type": "markdown",
   "id": "f1d40d61-6688-44ae-a954-88b59014cdad",
   "metadata": {},
   "source": [
    "# Prostate cancer dataset"
   ]
  },
  {
   "cell_type": "code",
   "execution_count": 43,
   "id": "a584f575-4187-4a0b-8fbd-89efd5ab9a8a",
   "metadata": {},
   "outputs": [],
   "source": [
    "gold_standard_resa = {0: [\"AR\",\"CREB1\",\"E2F1\",\"JUND\",\"MYC\",\"RELA\",\"ZFX\"],\n",
    "                      1: [\"AR\",\"CREB1\",\"E2F1\",\"JUND\",\"MYC\",\"RELA\",\"ZFX\"],\n",
    "                      2: [\"AR\",\"CREB1\",\"E2F1\",\"JUND\",\"MYC\",\"RELA\",\"ZFX\"],\n",
    "                      4: [\"AR\",\"CREB1\",\"E2F1\",\"JUND\",\"MYC\",\"RELA\",\"ZFX\"],\n",
    "                      5: [\"AR\",\"CREB1\",\"E2F1\",\"JUND\",\"MYC\",\"RELA\",\"ZFX\"],\n",
    "                      6: [\"AR\",\"CREB1\",\"E2F1\",\"JUND\",\"MYC\",\"RELA\",\"ZFX\"],\n",
    "                      7: [\"AR\",\"CREB1\",\"E2F1\",\"JUND\",\"MYC\",\"RELA\",\"ZFX\"],\n",
    "                      8:[\"AR\",\"MYC\",\"RELA\"],\n",
    "                      9: [\"AR\",\"CREB1\",\"E2F1\",\"JUND\",\"MYC\",\"RELA\",\"ZFX\"],\n",
    "                      10: [\"AR\",\"CREB1\",\"E2F1\",\"JUND\",\"MYC\",\"RELA\",\"ZFX\"],\n",
    "                      11: [\"AR\",\"CREB1\",\"E2F1\",\"JUND\",\"MYC\",\"RELA\",\"ZFX\"]}\n",
    "gold_standard_resb = {0:[\"ELF1\",\"CREB1\",\"E2F1\",\"JUND\",\"MYC\",\"GRHL2\"],\n",
    "                      1:[\"ELF1\",\"CREB1\",\"E2F1\",\"JUND\",\"MYC\",\"GRHL2\",\"ZFX\"],\n",
    "                      4:[\"ELF1\",\"CREB1\",\"E2F1\",\"JUND\",\"MYC\",\"GRHL2\",\"ZFX\"],\n",
    "                      5:[\"CREB1\",\"E2F1\",\"MYC\"],\n",
    "                      6:[\"ELF1\",\"CREB1\",\"E2F1\",\"JUND\",\"MYC\",\"GRHL2\",\"ZFX\"],\n",
    "                      8:[\"ELF1\",\"MYC\"],\n",
    "                      9:[\"ELF1\",\"CREB1\",\"E2F1\",\"MYC\",\"GRHL2\"],\n",
    "                      10:[\"CREB1\",\"E2F1\",\"JUND\",\"MYC\",\"GRHL2\"],\n",
    "                      11:[\"E2F1\",\"MYC\"]}\n",
    "\n",
    "dict_results = {\"resa\":{}, \"resb\":{}}"
   ]
  },
  {
   "cell_type": "code",
   "execution_count": 44,
   "id": "3eff4ee8-805a-4a15-b4b0-2daaf9f88487",
   "metadata": {},
   "outputs": [],
   "source": [
    "folder_pca = r\"/data2/home/giga/TRIPS_results/ZENODO/single_cell_datasets/Prostate_cancer/\""
   ]
  },
  {
   "cell_type": "markdown",
   "id": "62ba33d5-9376-4019-a3c6-89a300c8c477",
   "metadata": {},
   "source": [
    "## DEGs"
   ]
  },
  {
   "cell_type": "code",
   "execution_count": 45,
   "id": "4978f80a-495f-440e-953f-05e2750ad790",
   "metadata": {},
   "outputs": [],
   "source": [
    "parent_folder = os.path.join(folder_pca, \"degs\")\n",
    "\n",
    "precs_degs = []\n",
    "for treatment in [\"resa\",\"resb\"]:\n",
    "\n",
    "    if treatment == \"resa\":\n",
    "        clusters = [0,1,2,4,5,6,7,8,9,10,11]\n",
    "        precs_degs_resa = []\n",
    "    elif treatment == \"resb\":\n",
    "        clusters = [0,1,4,5,6,8,9,10,11]\n",
    "        precs_degs_resb = []\n",
    "    \n",
    "    for cluster in clusters:\n",
    "\n",
    "        file_degs = os.path.join(parent_folder, \"degs_{}_vs_lncap_cluster{}.csv\".format(treatment, cluster))\n",
    "        df = pd.read_csv(file_degs, sep=\"\\t\")\n",
    "        df = df[df[\"AdjPValue\"] < 0.05]\n",
    "        df = df[abs(df[\"Log_FoldChange\"]) > 0.25]\n",
    "        degs = list(df[\"Gene_symbol\"])\n",
    "        degs_tfs = set(degs).intersection(set(all_tfs))\n",
    "\n",
    "        if treatment == \"resb\":\n",
    "            gold_standard = gold_standard_resb[cluster]\n",
    "        elif treatment == \"resa\":\n",
    "            gold_standard = gold_standard_resa[cluster]\n",
    "        \n",
    "        if degs_tfs:\n",
    "            common = set(degs_tfs).intersection(set(gold_standard))\n",
    "            prec = len(common) / len(degs_tfs)\n",
    "        else:\n",
    "            prec = 0\n",
    "        if treatment == \"resa\":\n",
    "            precs_degs_resa.append(prec)\n",
    "        elif treatment == \"resb\":\n",
    "            precs_degs_resb.append(prec)\n",
    "\n",
    "dict_results[\"resa\"][\"degs\"] = precs_degs_resa\n",
    "dict_results[\"resb\"][\"degs\"] = precs_degs_resb"
   ]
  },
  {
   "cell_type": "markdown",
   "id": "0b57e5e5-5d2c-4f03-89b6-8ce50c3a9d0d",
   "metadata": {},
   "source": [
    "## RegEnrich"
   ]
  },
  {
   "cell_type": "code",
   "execution_count": 46,
   "id": "9b08f291-37fd-45fe-9291-b42dd6116c69",
   "metadata": {
    "scrolled": true
   },
   "outputs": [],
   "source": [
    "parent_folder = os.path.join(folder_pca, \"regenrich\")\n",
    "\n",
    "for treatment in [\"resa\",\"resb\"]:\n",
    "\n",
    "    if treatment == \"resa\":\n",
    "        clusters = [0,1,2,4,5,6,7,8,9,10,11]\n",
    "        precs_regenrich_resa = []\n",
    "    elif treatment == \"resb\":\n",
    "        clusters = [0,1,4,5,6,8,9,10,11]\n",
    "        precs_regenrich_resb = []\n",
    "        \n",
    "    for cluster in clusters:\n",
    "\n",
    "        keyword = \"prostate_cancer_{}_{}\".format(treatment, cluster)\n",
    "        res = extract_regenrich_results(parent_folder, keyword, n_top_reg=25)\n",
    "        if treatment == \"resb\":\n",
    "            gold_standard = gold_standard_resb[cluster]\n",
    "        elif treatment == \"resa\":\n",
    "            gold_standard = gold_standard_resa[cluster]\n",
    "            \n",
    "        common = (set(res).intersection(set(gold_standard)))\n",
    "        prec = len(common) / len(res)\n",
    "        if treatment == \"resa\":\n",
    "            precs_regenrich_resa.append(prec)\n",
    "        elif treatment == \"resb\":\n",
    "            precs_regenrich_resb.append(prec)\n",
    "\n",
    "dict_results[\"resa\"][\"regenrich\"] = precs_regenrich_resa\n",
    "dict_results[\"resb\"][\"regenrich\"] = precs_regenrich_resb"
   ]
  },
  {
   "cell_type": "markdown",
   "id": "9154a279-e0cc-42bc-b9e8-ffc86fa89087",
   "metadata": {},
   "source": [
    "## CaCTS"
   ]
  },
  {
   "cell_type": "code",
   "execution_count": 47,
   "id": "375a7ca0-10b4-485c-9d91-6475fa0d3494",
   "metadata": {},
   "outputs": [],
   "source": [
    "parent_folder = os.path.join(folder_pca, \"cacts\")\n",
    "percent = 0.1\n",
    "for treatment in [\"resa\",\"resb\"]:\n",
    "\n",
    "    if treatment == \"resa\":\n",
    "        clusters = [0,1,2,4,5,6,7,8,9,10,11]\n",
    "        gold_standard = gold_standard_resa\n",
    "        precs_cacts_resa = []\n",
    "    elif treatment == \"resb\":\n",
    "        clusters = [0,1,4,5,6,8,9,10,11]\n",
    "        precs_cacts_resb = []\n",
    "            \n",
    "    for cluster in clusters:\n",
    "        \n",
    "        file = os.path.join(parent_folder, \"prostate_cancer_{}_{}_filtered_top{}.txt\".format(treatment, cluster, percent))\n",
    "        res = extract_cacts_results(file)\n",
    "        res_cacts = [i for i in res if i in all_tfs]\n",
    "\n",
    "        if treatment == \"resb\":\n",
    "            gold_standard = gold_standard_resb[cluster]\n",
    "        elif treatment == \"resa\":\n",
    "            gold_standard = gold_standard_resa[cluster]\n",
    "            \n",
    "        if res_cacts:\n",
    "            common = set(res_cacts).intersection(set(gold_standard))\n",
    "            prec = len(common) / len(res_cacts)\n",
    "        else:\n",
    "            prec = 0\n",
    "\n",
    "        if treatment == \"resa\":\n",
    "            precs_cacts_resa.append(prec)\n",
    "        elif treatment == \"resb\":\n",
    "            precs_cacts_resb.append(prec)\n",
    "\n",
    "dict_results[\"resa\"][\"cacts\"] = precs_cacts_resa\n",
    "dict_results[\"resb\"][\"cacts\"] = precs_cacts_resb"
   ]
  },
  {
   "cell_type": "markdown",
   "id": "f1d5486a-208a-4a27-8887-a2895b1c06e9",
   "metadata": {},
   "source": [
    "## TRIPS"
   ]
  },
  {
   "cell_type": "code",
   "execution_count": 48,
   "id": "f1ab86e2-bde3-46ed-844a-76731ffc3926",
   "metadata": {},
   "outputs": [],
   "source": [
    "parent_folder = os.path.join(folder_pca, \"trips\")\n",
    "precs_trips = []\n",
    "trips_solutions = []\n",
    "\n",
    "for treatment in [\"resa\",\"resb\"]:\n",
    "\n",
    "    if treatment == \"resa\":\n",
    "        clusters = [0,1,2,4,5,6,7,8,9,10,11]\n",
    "        gold_standard = gold_standard_resa\n",
    "        precs_trips_resa = []\n",
    "    elif treatment == \"resb\":\n",
    "        clusters = [0,1,4,5,6,8,9,10,11]\n",
    "        precs_trips_resb = []\n",
    "            \n",
    "    for cluster in clusters:\n",
    "        \n",
    "        results_folder = os.path.join(parent_folder, \"{}_{}\".format(treatment, cluster), \"final_solutions_prostate_cancer_{}_{}\".format(treatment, cluster))\n",
    "        indiv_solns = load_combined_solutions_indiv(results_folder, \"prostate_cancer_{}_{}\".format(treatment, cluster))\n",
    "    \n",
    "        res_trips = flatten(indiv_solns)\n",
    "        trips_solutions.append(res_trips)\n",
    "\n",
    "        if treatment == \"resb\":\n",
    "            gold_standard = gold_standard_resb[cluster]\n",
    "        elif treatment == \"resa\":\n",
    "            gold_standard = gold_standard_resa[cluster]\n",
    "    \n",
    "        trips_tfs = set(res_trips).intersection(set(all_tfs))\n",
    "        common = set(trips_tfs).intersection(set(gold_standard))\n",
    "        if len(trips_tfs) != 0:\n",
    "            prec = len(common) / len(trips_tfs)\n",
    "        else:\n",
    "            prec = 0\n",
    "        if treatment == \"resa\":\n",
    "            precs_trips_resa.append(prec)\n",
    "        elif treatment == \"resb\":\n",
    "            precs_trips_resb.append(prec)\n",
    "\n",
    "dict_results[\"resa\"][\"trips\"] = precs_trips_resa\n",
    "dict_results[\"resb\"][\"trips\"] = precs_trips_resb"
   ]
  },
  {
   "cell_type": "markdown",
   "id": "b37dd82b-77ef-4ca3-8ecf-b3e6118c2261",
   "metadata": {},
   "source": [
    "## PCSF"
   ]
  },
  {
   "cell_type": "code",
   "execution_count": 49,
   "id": "659794cd-7d6c-4bc7-af74-0347e13af5ae",
   "metadata": {},
   "outputs": [],
   "source": [
    "main_pcsf_folder = r\"/data2/home/giga/SCOOTR_datasets/TRIPS_MANUSCRIPT_CORRECT/pcsf_prostate_cancer_scrnaseq_clusters_percentile_b5\"\n",
    "\n",
    "parent_folder = os.path.join(folder_pca, \"pcsf\")\n",
    "n_mech = 6\n",
    "\n",
    "for treatment in [\"resa\",\"resb\"]:\n",
    "\n",
    "    if treatment == \"resa\":\n",
    "        clusters = [0,1,2,4,5,6,7,8,9,10,11]\n",
    "        gold_standard = gold_standard_resa\n",
    "        precs_pcsf_resa = []\n",
    "    elif treatment == \"resb\":\n",
    "        clusters = [0,1,4,5,6,8,9,10,11]\n",
    "        precs_pcsf_resb = []\n",
    "            \n",
    "    for cluster in clusters:\n",
    "    \n",
    "        file = os.path.join(parent_folder, \"prostate_cancer_{}_cluster{}\".format(treatment, cluster), \"prostate_cancer_{}_{}_{}_edges.txt\".format(treatment, cluster, n_mech))\n",
    "        # print(\"file\", file)\n",
    "        if not os.path.exists(file):\n",
    "            print(\"File does not exist for\", cluster)\n",
    "            res_pcsf = []\n",
    "        else:   \n",
    "            res_pcsf = extract_pcsf_results(file)\n",
    "\n",
    "        if treatment == \"resb\":\n",
    "            gold_standard = gold_standard_resb[cluster]\n",
    "        elif treatment == \"resa\":\n",
    "            gold_standard = gold_standard_resa[cluster]\n",
    "            \n",
    "        res_tfs = set(res_pcsf).intersection(set(all_tfs))\n",
    "        common = set(res_tfs).intersection(set(gold_standard))\n",
    "        if res_pcsf:\n",
    "            prec = len(common) / len(res_tfs)\n",
    "        else:\n",
    "            prec = 0\n",
    "\n",
    "        if treatment == \"resa\":\n",
    "            precs_pcsf_resa.append(prec)\n",
    "        elif treatment == \"resb\":\n",
    "            precs_pcsf_resb.append(prec)\n",
    "\n",
    "dict_results[\"resa\"][\"pcsf\"] = precs_pcsf_resa\n",
    "dict_results[\"resb\"][\"pcsf\"] = precs_pcsf_resb"
   ]
  },
  {
   "cell_type": "markdown",
   "id": "5b92c9e9-793e-4f46-a81f-5975c1cc4875",
   "metadata": {},
   "source": [
    "## MOGAMUN"
   ]
  },
  {
   "cell_type": "code",
   "execution_count": 50,
   "id": "482f9553-690f-432d-a607-65a4bafb0b11",
   "metadata": {
    "scrolled": true
   },
   "outputs": [],
   "source": [
    "main_mogamun_folder = r\"/data2/home/giga/SCOOTR_datasets/TRIPS_MANUSCRIPT_CORRECT/mogamun_prostate_cancer_scrnaseq_clusters/\"\n",
    "\n",
    "parent_folder = os.path.join(folder_pca, \"mogamun\")\n",
    "precs_mogamun = []\n",
    "\n",
    "for treatment in [\"resa\",\"resb\"]:\n",
    "\n",
    "    if treatment == \"resa\":\n",
    "        clusters = [0,1,2,4,5,6,7,8,9,10,11]\n",
    "        gold_standard = gold_standard_resa\n",
    "        precs_mogamun_resa = []\n",
    "    elif treatment == \"resb\":\n",
    "        clusters = [0,1,4,5,6,8,9,10,11]\n",
    "        precs_mogamun_resb = []\n",
    "            \n",
    "    for cluster in clusters:\n",
    "    \n",
    "        folder_sub = glob.glob(os.path.join(main_mogamun_folder, \"prostate_cancer_{}_{}\".format(treatment, cluster), \"Experiment_*\"))\n",
    "        if len(folder_sub) == 1:\n",
    "            file = os.path.join(folder_sub[0], \"A_ALL_FILTERED_INTERACTIONS_CYTOSCAPE.csv\")\n",
    "            if os.path.exists(file):\n",
    "                res_mogamun = extract_mogamun_results(file)\n",
    "\n",
    "        if treatment == \"resb\":\n",
    "            gold_standard = gold_standard_resb[cluster]\n",
    "        elif treatment == \"resa\":\n",
    "            gold_standard = gold_standard_resa[cluster]\n",
    "            \n",
    "        res_tfs = set(res_mogamun).intersection(set(all_tfs))\n",
    "        common = set(res_tfs).intersection(set(gold_standard))\n",
    "        if res_pcsf:\n",
    "            prec = len(common) / len(res_tfs)\n",
    "        else:\n",
    "            prec = 0\n",
    "\n",
    "        if treatment == \"resa\":\n",
    "            precs_mogamun_resa.append(prec)\n",
    "        elif treatment == \"resb\":\n",
    "            precs_mogamun_resb.append(prec)"
   ]
  },
  {
   "cell_type": "code",
   "execution_count": 51,
   "id": "0019a16f-542a-43e5-99f9-37d36b76670c",
   "metadata": {},
   "outputs": [],
   "source": [
    "dict_map = {\"degs\": precs_degs_resa,\n",
    "            \"trips\": precs_trips_resa,\n",
    "            \"regenrich\": precs_regenrich_resa,\n",
    "            \"cacts\": precs_cacts_resa,\n",
    "            \"pcsf\": precs_pcsf_resa,\n",
    "           \"mogamun\": precs_mogamun_resa}\n",
    "\n",
    "\n",
    "dict_map_resb = {\"degs\":precs_degs_resb,\n",
    "                 \"trips\": precs_trips_resb,\n",
    "            \"regenrich\": precs_regenrich_resb,\n",
    "            \"cacts\": precs_cacts_resb,\n",
    "            \"pcsf\": precs_pcsf_resb,\n",
    "            \"mogamun\": precs_mogamun_resb}"
   ]
  },
  {
   "cell_type": "markdown",
   "id": "728ec0b6-1329-4603-9233-9513510bebed",
   "metadata": {},
   "source": [
    "## Plot"
   ]
  },
  {
   "cell_type": "code",
   "execution_count": 52,
   "id": "3879d8f7-77d3-4b1b-87cc-7255aa6aed0d",
   "metadata": {},
   "outputs": [
    {
     "data": {
      "text/html": [
       "<div>\n",
       "<style scoped>\n",
       "    .dataframe tbody tr th:only-of-type {\n",
       "        vertical-align: middle;\n",
       "    }\n",
       "\n",
       "    .dataframe tbody tr th {\n",
       "        vertical-align: top;\n",
       "    }\n",
       "\n",
       "    .dataframe thead th {\n",
       "        text-align: right;\n",
       "    }\n",
       "</style>\n",
       "<table border=\"1\" class=\"dataframe\">\n",
       "  <thead>\n",
       "    <tr style=\"text-align: right;\">\n",
       "      <th></th>\n",
       "      <th>precision</th>\n",
       "      <th>method</th>\n",
       "      <th>Comparison</th>\n",
       "    </tr>\n",
       "  </thead>\n",
       "  <tbody>\n",
       "    <tr>\n",
       "      <th>0</th>\n",
       "      <td>0.000000</td>\n",
       "      <td>degs</td>\n",
       "      <td>RESA-LNCaP vs. LNCaP</td>\n",
       "    </tr>\n",
       "    <tr>\n",
       "      <th>1</th>\n",
       "      <td>0.000000</td>\n",
       "      <td>degs</td>\n",
       "      <td>RESA-LNCaP vs. LNCaP</td>\n",
       "    </tr>\n",
       "    <tr>\n",
       "      <th>2</th>\n",
       "      <td>0.052632</td>\n",
       "      <td>degs</td>\n",
       "      <td>RESA-LNCaP vs. LNCaP</td>\n",
       "    </tr>\n",
       "    <tr>\n",
       "      <th>3</th>\n",
       "      <td>0.000000</td>\n",
       "      <td>degs</td>\n",
       "      <td>RESA-LNCaP vs. LNCaP</td>\n",
       "    </tr>\n",
       "    <tr>\n",
       "      <th>4</th>\n",
       "      <td>0.000000</td>\n",
       "      <td>degs</td>\n",
       "      <td>RESA-LNCaP vs. LNCaP</td>\n",
       "    </tr>\n",
       "  </tbody>\n",
       "</table>\n",
       "</div>"
      ],
      "text/plain": [
       "   precision method            Comparison\n",
       "0   0.000000   degs  RESA-LNCaP vs. LNCaP\n",
       "1   0.000000   degs  RESA-LNCaP vs. LNCaP\n",
       "2   0.052632   degs  RESA-LNCaP vs. LNCaP\n",
       "3   0.000000   degs  RESA-LNCaP vs. LNCaP\n",
       "4   0.000000   degs  RESA-LNCaP vs. LNCaP"
      ]
     },
     "execution_count": 52,
     "metadata": {},
     "output_type": "execute_result"
    }
   ],
   "source": [
    "all_dfs_resa = []\n",
    "for method, precs in dict_map.items():\n",
    "    df = pd.DataFrame({\"precision\":precs})\n",
    "    df[\"method\"] = method\n",
    "    all_dfs_resa.append(df)\n",
    "df_resa = pd.concat(all_dfs_resa)\n",
    "\n",
    "all_dfs_resb = []\n",
    "for method, precs in dict_map_resb.items():\n",
    "    df = pd.DataFrame({\"precision\":precs})\n",
    "    df[\"method\"] = method\n",
    "    all_dfs_resb.append(df)\n",
    "df_resb = pd.concat(all_dfs_resb)\n",
    "\n",
    "df_resa[\"Comparison\"] = \"RESA-LNCaP vs. LNCaP\"\n",
    "df_resb[\"Comparison\"] = \"RESB-LNCaP vs. LNCaP\"\n",
    "df_both = pd.concat([df_resa, df_resb])\n",
    "df_both.head()"
   ]
  },
  {
   "cell_type": "code",
   "execution_count": 53,
   "id": "7ec79e08-cf1c-44d3-89c5-a7ab863c6b4f",
   "metadata": {},
   "outputs": [
    {
     "data": {
      "text/plain": [
       "['palevioletred', '#519bc6', '#f5764f', 'tan', '#59b769', 'orchid']"
      ]
     },
     "execution_count": 53,
     "metadata": {},
     "output_type": "execute_result"
    }
   ],
   "source": [
    "my_colors"
   ]
  },
  {
   "cell_type": "code",
   "execution_count": 54,
   "id": "a1de493b-6fc2-4b9c-889c-00958c6215a6",
   "metadata": {},
   "outputs": [
    {
     "data": {
      "image/png": "[encoded data removed]",
      "text/plain": [
       "<Figure size 800x500 with 1 Axes>"
      ]
     },
     "metadata": {},
     "output_type": "display_data"
    }
   ],
   "source": [
    "sns.set()\n",
    "plt.figure(figsize=(8,5))\n",
    "b = sns.boxplot(data=df_both,x=\"method\", y=\"precision\", hue=\"Comparison\", palette=my_colors)  # RUN PLOT  \n",
    "b.axes.set_title(\"Comparison of TF prioritization methods\\nProstate cancer\",\n",
    "                 fontsize=20)\n",
    "b.set_xlabel(\"\",fontsize=18)\n",
    "b.set_ylabel(\"Precision\",fontsize=18)\n",
    "b.tick_params(labelsize=5)\n",
    "\n",
    "new_labels = [\"DEGs\",\"TRIPS\",\"RegEnrich\",\"CaCTS\",\"PCSF\",\"MOGAMUN\"]\n",
    "b.set_xticklabels(new_labels, rotation=30, fontsize=14)\n",
    "b.set_yticklabels(b.get_yticklabels(), fontsize=10)\n",
    "\n",
    "file = os.path.join(r\"/data2/home/giga/TRIPS_results/ZENODO/single_cell_datasets\", \"evaluation_prostate_cancer.png\")\n",
    "plt.legend(loc=\"upper right\")\n",
    "plt.savefig(file, format=\"png\", bbox_inches=\"tight\")"
   ]
  },
  {
   "cell_type": "code",
   "execution_count": null,
   "id": "cd605a66-1379-45a7-b148-05268f245a69",
   "metadata": {},
   "outputs": [],
   "source": []
  }
 ],
 "metadata": {
  "kernelspec": {
   "display_name": "boostdiff_vis",
   "language": "python",
   "name": "boostdiff_vis"
  },
  "language_info": {
   "codemirror_mode": {
    "name": "ipython",
    "version": 3
   },
   "file_extension": ".py",
   "mimetype": "text/x-python",
   "name": "python",
   "nbconvert_exporter": "python",
   "pygments_lexer": "ipython3",
   "version": "3.12.0"
  }
 },
 "nbformat": 4,
 "nbformat_minor": 5
}
